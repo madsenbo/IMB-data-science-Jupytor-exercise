{
 "cells": [
  {
   "cell_type": "markdown",
   "id": "97453ee5",
   "metadata": {},
   "source": [
    "# Data Science Tools and Ecosystems"
   ]
  },
  {
   "cell_type": "markdown",
   "id": "a17f64ef",
   "metadata": {},
   "source": [
    "**Objectives:**\n",
    "\n",
    "* List popular languages for Data Science\n",
    "* List popular libraries for Data Science\n",
    "* List popular development tools for Data Science\n",
    "* Create tables in Mark Down Cell in Jupytor Notebook\n",
    "* Create and execute artihmetic expressions in Jupytor Notebook\n"
   ]
  },
  {
   "cell_type": "markdown",
   "id": "e035e635",
   "metadata": {},
   "source": [
    "In this notebook, data science tools and ecosystems are summarised"
   ]
  },
  {
   "cell_type": "markdown",
   "id": "991a2aad",
   "metadata": {},
   "source": [
    "Some of the popular languages data sciencentists use are\n",
    "1. Python\n",
    "2. R\n",
    "3. Julia"
   ]
  },
  {
   "cell_type": "markdown",
   "id": "35eafe66",
   "metadata": {},
   "source": [
    "Some of the commonly used libraries used by Data Scientists include:\n",
    "1. Pandas\n",
    "2. Numpy\n",
    "3. ggplot"
   ]
  },
  {
   "cell_type": "markdown",
   "id": "de33d60f",
   "metadata": {},
   "source": [
    "| Data Science Tools |\n",
    "| ----------------- |\n",
    "|Apache SparkSQL|\n",
    "| MySQL |\n",
    "| Hadoop |"
   ]
  },
  {
   "cell_type": "markdown",
   "id": "ee888fb6",
   "metadata": {},
   "source": [
    "### Below are a few examples of evaluating arithmetic expressions in Python"
   ]
  },
  {
   "cell_type": "code",
   "execution_count": 4,
   "id": "3bcd13ed",
   "metadata": {},
   "outputs": [
    {
     "data": {
      "text/plain": [
       "17"
      ]
     },
     "execution_count": 4,
     "metadata": {},
     "output_type": "execute_result"
    }
   ],
   "source": [
    "##This a simple arithmetic expression to mutiply then add integers\n",
    "(3*4)+5"
   ]
  },
  {
   "cell_type": "code",
   "execution_count": 10,
   "id": "d6b708d6",
   "metadata": {},
   "outputs": [
    {
     "data": {
      "text/plain": [
       "3.3333333333333335"
      ]
     },
     "execution_count": 10,
     "metadata": {},
     "output_type": "execute_result"
    }
   ],
   "source": [
    "##This will convert 200 minutes to hours by diving by 60\n",
    "200/60 "
   ]
  },
  {
   "cell_type": "markdown",
   "id": "3b195382",
   "metadata": {},
   "source": [
    "## Author\n",
    "Bo Madsen"
   ]
  },
  {
   "cell_type": "code",
   "execution_count": null,
   "id": "a4d80915",
   "metadata": {},
   "outputs": [],
   "source": []
  }
 ],
 "metadata": {
  "kernelspec": {
   "display_name": "Python 3 (ipykernel)",
   "language": "python",
   "name": "python3"
  },
  "language_info": {
   "codemirror_mode": {
    "name": "ipython",
    "version": 3
   },
   "file_extension": ".py",
   "mimetype": "text/x-python",
   "name": "python",
   "nbconvert_exporter": "python",
   "pygments_lexer": "ipython3",
   "version": "3.10.9"
  }
 },
 "nbformat": 4,
 "nbformat_minor": 5
}
